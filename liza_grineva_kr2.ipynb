{
 "cells": [
  {
   "cell_type": "code",
   "execution_count": 1,
   "metadata": {},
   "outputs": [],
   "source": [
    "# Importing the libraries\n",
    "import numpy as np\n",
    "import matplotlib.pyplot as plt\n",
    "import pandas as pd"
   ]
  },
  {
   "cell_type": "markdown",
   "metadata": {},
   "source": [
    "Импортируем необходимые библиотеки и присваиваем им сокращенные названия."
   ]
  },
  {
   "cell_type": "code",
   "execution_count": 2,
   "metadata": {},
   "outputs": [],
   "source": [
    "# Importing the dataset\n",
    "df = pd.read_csv('kr2_var2.csv', sep=',')"
   ]
  },
  {
   "cell_type": "markdown",
   "metadata": {},
   "source": [
    "Импортируем файл с данными используя библиотеку пандас."
   ]
  },
  {
   "cell_type": "code",
   "execution_count": 3,
   "metadata": {},
   "outputs": [
    {
     "data": {
      "text/html": [
       "<div>\n",
       "<style scoped>\n",
       "    .dataframe tbody tr th:only-of-type {\n",
       "        vertical-align: middle;\n",
       "    }\n",
       "\n",
       "    .dataframe tbody tr th {\n",
       "        vertical-align: top;\n",
       "    }\n",
       "\n",
       "    .dataframe thead th {\n",
       "        text-align: right;\n",
       "    }\n",
       "</style>\n",
       "<table border=\"1\" class=\"dataframe\">\n",
       "  <thead>\n",
       "    <tr style=\"text-align: right;\">\n",
       "      <th></th>\n",
       "      <th>Age</th>\n",
       "      <th>Sex</th>\n",
       "      <th>ALP</th>\n",
       "      <th>ALT</th>\n",
       "      <th>CHE</th>\n",
       "      <th>CHOL</th>\n",
       "      <th>CREA</th>\n",
       "      <th>GGT</th>\n",
       "      <th>PROT</th>\n",
       "      <th>Category</th>\n",
       "    </tr>\n",
       "  </thead>\n",
       "  <tbody>\n",
       "    <tr>\n",
       "      <th>0</th>\n",
       "      <td>32</td>\n",
       "      <td>m</td>\n",
       "      <td>52.5</td>\n",
       "      <td>7.7</td>\n",
       "      <td>6.93</td>\n",
       "      <td>3.23</td>\n",
       "      <td>106.0</td>\n",
       "      <td>12.1</td>\n",
       "      <td>69.0</td>\n",
       "      <td>0</td>\n",
       "    </tr>\n",
       "    <tr>\n",
       "      <th>1</th>\n",
       "      <td>32</td>\n",
       "      <td>m</td>\n",
       "      <td>70.3</td>\n",
       "      <td>18.0</td>\n",
       "      <td>11.17</td>\n",
       "      <td>4.80</td>\n",
       "      <td>74.0</td>\n",
       "      <td>15.6</td>\n",
       "      <td>76.5</td>\n",
       "      <td>0</td>\n",
       "    </tr>\n",
       "    <tr>\n",
       "      <th>2</th>\n",
       "      <td>32</td>\n",
       "      <td>m</td>\n",
       "      <td>74.7</td>\n",
       "      <td>36.2</td>\n",
       "      <td>8.84</td>\n",
       "      <td>5.20</td>\n",
       "      <td>86.0</td>\n",
       "      <td>33.2</td>\n",
       "      <td>79.3</td>\n",
       "      <td>0</td>\n",
       "    </tr>\n",
       "    <tr>\n",
       "      <th>3</th>\n",
       "      <td>32</td>\n",
       "      <td>m</td>\n",
       "      <td>52.0</td>\n",
       "      <td>30.6</td>\n",
       "      <td>7.33</td>\n",
       "      <td>4.74</td>\n",
       "      <td>80.0</td>\n",
       "      <td>33.8</td>\n",
       "      <td>75.7</td>\n",
       "      <td>0</td>\n",
       "    </tr>\n",
       "    <tr>\n",
       "      <th>4</th>\n",
       "      <td>32</td>\n",
       "      <td>m</td>\n",
       "      <td>74.1</td>\n",
       "      <td>32.6</td>\n",
       "      <td>9.15</td>\n",
       "      <td>4.32</td>\n",
       "      <td>76.0</td>\n",
       "      <td>29.9</td>\n",
       "      <td>68.7</td>\n",
       "      <td>0</td>\n",
       "    </tr>\n",
       "    <tr>\n",
       "      <th>...</th>\n",
       "      <td>...</td>\n",
       "      <td>...</td>\n",
       "      <td>...</td>\n",
       "      <td>...</td>\n",
       "      <td>...</td>\n",
       "      <td>...</td>\n",
       "      <td>...</td>\n",
       "      <td>...</td>\n",
       "      <td>...</td>\n",
       "      <td>...</td>\n",
       "    </tr>\n",
       "    <tr>\n",
       "      <th>610</th>\n",
       "      <td>62</td>\n",
       "      <td>f</td>\n",
       "      <td>416.6</td>\n",
       "      <td>5.9</td>\n",
       "      <td>5.57</td>\n",
       "      <td>6.30</td>\n",
       "      <td>55.7</td>\n",
       "      <td>650.9</td>\n",
       "      <td>68.5</td>\n",
       "      <td>1</td>\n",
       "    </tr>\n",
       "    <tr>\n",
       "      <th>611</th>\n",
       "      <td>64</td>\n",
       "      <td>f</td>\n",
       "      <td>102.8</td>\n",
       "      <td>2.9</td>\n",
       "      <td>1.54</td>\n",
       "      <td>3.02</td>\n",
       "      <td>63.0</td>\n",
       "      <td>35.9</td>\n",
       "      <td>71.3</td>\n",
       "      <td>1</td>\n",
       "    </tr>\n",
       "    <tr>\n",
       "      <th>612</th>\n",
       "      <td>64</td>\n",
       "      <td>f</td>\n",
       "      <td>87.3</td>\n",
       "      <td>3.5</td>\n",
       "      <td>1.66</td>\n",
       "      <td>3.63</td>\n",
       "      <td>66.7</td>\n",
       "      <td>64.2</td>\n",
       "      <td>82.0</td>\n",
       "      <td>1</td>\n",
       "    </tr>\n",
       "    <tr>\n",
       "      <th>613</th>\n",
       "      <td>46</td>\n",
       "      <td>f</td>\n",
       "      <td>NaN</td>\n",
       "      <td>39.0</td>\n",
       "      <td>3.56</td>\n",
       "      <td>4.20</td>\n",
       "      <td>52.0</td>\n",
       "      <td>50.0</td>\n",
       "      <td>71.0</td>\n",
       "      <td>1</td>\n",
       "    </tr>\n",
       "    <tr>\n",
       "      <th>614</th>\n",
       "      <td>59</td>\n",
       "      <td>f</td>\n",
       "      <td>NaN</td>\n",
       "      <td>100.0</td>\n",
       "      <td>9.07</td>\n",
       "      <td>5.30</td>\n",
       "      <td>67.0</td>\n",
       "      <td>34.0</td>\n",
       "      <td>68.0</td>\n",
       "      <td>1</td>\n",
       "    </tr>\n",
       "  </tbody>\n",
       "</table>\n",
       "<p>615 rows × 10 columns</p>\n",
       "</div>"
      ],
      "text/plain": [
       "     Age Sex    ALP    ALT    CHE  CHOL   CREA    GGT  PROT  Category\n",
       "0     32   m   52.5    7.7   6.93  3.23  106.0   12.1  69.0         0\n",
       "1     32   m   70.3   18.0  11.17  4.80   74.0   15.6  76.5         0\n",
       "2     32   m   74.7   36.2   8.84  5.20   86.0   33.2  79.3         0\n",
       "3     32   m   52.0   30.6   7.33  4.74   80.0   33.8  75.7         0\n",
       "4     32   m   74.1   32.6   9.15  4.32   76.0   29.9  68.7         0\n",
       "..   ...  ..    ...    ...    ...   ...    ...    ...   ...       ...\n",
       "610   62   f  416.6    5.9   5.57  6.30   55.7  650.9  68.5         1\n",
       "611   64   f  102.8    2.9   1.54  3.02   63.0   35.9  71.3         1\n",
       "612   64   f   87.3    3.5   1.66  3.63   66.7   64.2  82.0         1\n",
       "613   46   f    NaN   39.0   3.56  4.20   52.0   50.0  71.0         1\n",
       "614   59   f    NaN  100.0   9.07  5.30   67.0   34.0  68.0         1\n",
       "\n",
       "[615 rows x 10 columns]"
      ]
     },
     "execution_count": 3,
     "metadata": {},
     "output_type": "execute_result"
    }
   ],
   "source": [
    "df"
   ]
  },
  {
   "cell_type": "markdown",
   "metadata": {},
   "source": [
    "Выводим датасет на экран. Количество наблюдений 615, количество факторов из них 8 количественных и 1 качественный."
   ]
  },
  {
   "cell_type": "code",
   "execution_count": 4,
   "metadata": {},
   "outputs": [
    {
     "data": {
      "text/html": [
       "<div>\n",
       "<style scoped>\n",
       "    .dataframe tbody tr th:only-of-type {\n",
       "        vertical-align: middle;\n",
       "    }\n",
       "\n",
       "    .dataframe tbody tr th {\n",
       "        vertical-align: top;\n",
       "    }\n",
       "\n",
       "    .dataframe thead th {\n",
       "        text-align: right;\n",
       "    }\n",
       "</style>\n",
       "<table border=\"1\" class=\"dataframe\">\n",
       "  <thead>\n",
       "    <tr style=\"text-align: right;\">\n",
       "      <th></th>\n",
       "      <th>Total</th>\n",
       "      <th>Percent</th>\n",
       "    </tr>\n",
       "  </thead>\n",
       "  <tbody>\n",
       "    <tr>\n",
       "      <th>ALP</th>\n",
       "      <td>18</td>\n",
       "      <td>0.029268</td>\n",
       "    </tr>\n",
       "    <tr>\n",
       "      <th>CHOL</th>\n",
       "      <td>10</td>\n",
       "      <td>0.016260</td>\n",
       "    </tr>\n",
       "    <tr>\n",
       "      <th>PROT</th>\n",
       "      <td>1</td>\n",
       "      <td>0.001626</td>\n",
       "    </tr>\n",
       "    <tr>\n",
       "      <th>ALT</th>\n",
       "      <td>1</td>\n",
       "      <td>0.001626</td>\n",
       "    </tr>\n",
       "    <tr>\n",
       "      <th>Category</th>\n",
       "      <td>0</td>\n",
       "      <td>0.000000</td>\n",
       "    </tr>\n",
       "    <tr>\n",
       "      <th>GGT</th>\n",
       "      <td>0</td>\n",
       "      <td>0.000000</td>\n",
       "    </tr>\n",
       "    <tr>\n",
       "      <th>CREA</th>\n",
       "      <td>0</td>\n",
       "      <td>0.000000</td>\n",
       "    </tr>\n",
       "    <tr>\n",
       "      <th>CHE</th>\n",
       "      <td>0</td>\n",
       "      <td>0.000000</td>\n",
       "    </tr>\n",
       "    <tr>\n",
       "      <th>Sex</th>\n",
       "      <td>0</td>\n",
       "      <td>0.000000</td>\n",
       "    </tr>\n",
       "    <tr>\n",
       "      <th>Age</th>\n",
       "      <td>0</td>\n",
       "      <td>0.000000</td>\n",
       "    </tr>\n",
       "  </tbody>\n",
       "</table>\n",
       "</div>"
      ],
      "text/plain": [
       "          Total   Percent\n",
       "ALP          18  0.029268\n",
       "CHOL         10  0.016260\n",
       "PROT          1  0.001626\n",
       "ALT           1  0.001626\n",
       "Category      0  0.000000\n",
       "GGT           0  0.000000\n",
       "CREA          0  0.000000\n",
       "CHE           0  0.000000\n",
       "Sex           0  0.000000\n",
       "Age           0  0.000000"
      ]
     },
     "execution_count": 4,
     "metadata": {},
     "output_type": "execute_result"
    }
   ],
   "source": [
    "# Cheking Missing data\n",
    "total = df.isnull().sum().sort_values(ascending=False)\n",
    "percent = (df.isnull().sum()/df.isnull().count()).sort_values(ascending=False)\n",
    "missing_data = pd.concat([total, percent], axis=1, keys=['Total', 'Percent'])\n",
    "missing_data"
   ]
  },
  {
   "cell_type": "markdown",
   "metadata": {},
   "source": [
    "Проверяем наличие пропусков, присутствуют они только в числовых значениях."
   ]
  },
  {
   "cell_type": "code",
   "execution_count": 5,
   "metadata": {},
   "outputs": [],
   "source": [
    "# Function Missing data (numeric)\n",
    "def fill_missing_num(x):\n",
    "    num_var = list(x._get_numeric_data().columns)\n",
    "    for col_names in num_var:        \n",
    "        prep_med = SimpleImputer(missing_values=np.nan, strategy='mean')\n",
    "        prep_med.fit(x[num_var])\n",
    "        x[num_var] = prep_med.transform(x[num_var])\n",
    "    return(x)"
   ]
  },
  {
   "cell_type": "markdown",
   "metadata": {},
   "source": [
    "Избавляемся от пропусков, используя стратегию заполнения их средними значениями."
   ]
  },
  {
   "cell_type": "code",
   "execution_count": 6,
   "metadata": {},
   "outputs": [],
   "source": [
    "# Filling NA \n",
    "from sklearn.impute import SimpleImputer\n",
    "df = fill_missing_num(df)"
   ]
  },
  {
   "cell_type": "code",
   "execution_count": 7,
   "metadata": {},
   "outputs": [
    {
     "data": {
      "text/html": [
       "<div>\n",
       "<style scoped>\n",
       "    .dataframe tbody tr th:only-of-type {\n",
       "        vertical-align: middle;\n",
       "    }\n",
       "\n",
       "    .dataframe tbody tr th {\n",
       "        vertical-align: top;\n",
       "    }\n",
       "\n",
       "    .dataframe thead th {\n",
       "        text-align: right;\n",
       "    }\n",
       "</style>\n",
       "<table border=\"1\" class=\"dataframe\">\n",
       "  <thead>\n",
       "    <tr style=\"text-align: right;\">\n",
       "      <th></th>\n",
       "      <th>Total</th>\n",
       "      <th>Percent</th>\n",
       "    </tr>\n",
       "  </thead>\n",
       "  <tbody>\n",
       "    <tr>\n",
       "      <th>Category</th>\n",
       "      <td>0</td>\n",
       "      <td>0.0</td>\n",
       "    </tr>\n",
       "    <tr>\n",
       "      <th>PROT</th>\n",
       "      <td>0</td>\n",
       "      <td>0.0</td>\n",
       "    </tr>\n",
       "    <tr>\n",
       "      <th>GGT</th>\n",
       "      <td>0</td>\n",
       "      <td>0.0</td>\n",
       "    </tr>\n",
       "    <tr>\n",
       "      <th>CREA</th>\n",
       "      <td>0</td>\n",
       "      <td>0.0</td>\n",
       "    </tr>\n",
       "    <tr>\n",
       "      <th>CHOL</th>\n",
       "      <td>0</td>\n",
       "      <td>0.0</td>\n",
       "    </tr>\n",
       "    <tr>\n",
       "      <th>CHE</th>\n",
       "      <td>0</td>\n",
       "      <td>0.0</td>\n",
       "    </tr>\n",
       "    <tr>\n",
       "      <th>ALT</th>\n",
       "      <td>0</td>\n",
       "      <td>0.0</td>\n",
       "    </tr>\n",
       "    <tr>\n",
       "      <th>ALP</th>\n",
       "      <td>0</td>\n",
       "      <td>0.0</td>\n",
       "    </tr>\n",
       "    <tr>\n",
       "      <th>Sex</th>\n",
       "      <td>0</td>\n",
       "      <td>0.0</td>\n",
       "    </tr>\n",
       "    <tr>\n",
       "      <th>Age</th>\n",
       "      <td>0</td>\n",
       "      <td>0.0</td>\n",
       "    </tr>\n",
       "  </tbody>\n",
       "</table>\n",
       "</div>"
      ],
      "text/plain": [
       "          Total  Percent\n",
       "Category      0      0.0\n",
       "PROT          0      0.0\n",
       "GGT           0      0.0\n",
       "CREA          0      0.0\n",
       "CHOL          0      0.0\n",
       "CHE           0      0.0\n",
       "ALT           0      0.0\n",
       "ALP           0      0.0\n",
       "Sex           0      0.0\n",
       "Age           0      0.0"
      ]
     },
     "execution_count": 7,
     "metadata": {},
     "output_type": "execute_result"
    }
   ],
   "source": [
    "# Cheking Missing data\n",
    "total = df.isnull().sum().sort_values(ascending=False)\n",
    "percent = (df.isnull().sum()/df.isnull().count()).sort_values(ascending=False)\n",
    "missing_data = pd.concat([total, percent], axis=1, keys=['Total', 'Percent'])\n",
    "missing_data"
   ]
  },
  {
   "cell_type": "markdown",
   "metadata": {},
   "source": [
    "Делаем конечную проверку на наличие пропусков и убеждаемся, что их нет."
   ]
  },
  {
   "cell_type": "code",
   "execution_count": 8,
   "metadata": {},
   "outputs": [],
   "source": [
    "# Function Encoding\n",
    "def encoding_char(x):\n",
    "    char_var = list(set(x.columns) - set(x._get_numeric_data().columns))\n",
    "    for col_names in char_var:\n",
    "        f = pd.factorize(x[col_names])\n",
    "        x[col_names] = pd.factorize(x[col_names])[0]\n",
    "    return(x)"
   ]
  },
  {
   "cell_type": "markdown",
   "metadata": {},
   "source": [
    "Кодируем качественные переменные."
   ]
  },
  {
   "cell_type": "code",
   "execution_count": 9,
   "metadata": {},
   "outputs": [],
   "source": [
    "# Encoding categorical data\n",
    "df = encoding_char(df)"
   ]
  },
  {
   "cell_type": "markdown",
   "metadata": {},
   "source": [
    "Полученные результаты запишем в исходный датасет."
   ]
  },
  {
   "cell_type": "code",
   "execution_count": 10,
   "metadata": {},
   "outputs": [
    {
     "data": {
      "text/html": [
       "<div>\n",
       "<style scoped>\n",
       "    .dataframe tbody tr th:only-of-type {\n",
       "        vertical-align: middle;\n",
       "    }\n",
       "\n",
       "    .dataframe tbody tr th {\n",
       "        vertical-align: top;\n",
       "    }\n",
       "\n",
       "    .dataframe thead th {\n",
       "        text-align: right;\n",
       "    }\n",
       "</style>\n",
       "<table border=\"1\" class=\"dataframe\">\n",
       "  <thead>\n",
       "    <tr style=\"text-align: right;\">\n",
       "      <th></th>\n",
       "      <th>Age</th>\n",
       "      <th>Sex</th>\n",
       "      <th>ALP</th>\n",
       "      <th>ALT</th>\n",
       "      <th>CHE</th>\n",
       "      <th>CHOL</th>\n",
       "      <th>CREA</th>\n",
       "      <th>GGT</th>\n",
       "      <th>PROT</th>\n",
       "      <th>Category</th>\n",
       "    </tr>\n",
       "  </thead>\n",
       "  <tbody>\n",
       "    <tr>\n",
       "      <th>0</th>\n",
       "      <td>32.0</td>\n",
       "      <td>0</td>\n",
       "      <td>52.50000</td>\n",
       "      <td>7.7</td>\n",
       "      <td>6.93</td>\n",
       "      <td>3.23</td>\n",
       "      <td>106.0</td>\n",
       "      <td>12.1</td>\n",
       "      <td>69.0</td>\n",
       "      <td>0.0</td>\n",
       "    </tr>\n",
       "    <tr>\n",
       "      <th>1</th>\n",
       "      <td>32.0</td>\n",
       "      <td>0</td>\n",
       "      <td>70.30000</td>\n",
       "      <td>18.0</td>\n",
       "      <td>11.17</td>\n",
       "      <td>4.80</td>\n",
       "      <td>74.0</td>\n",
       "      <td>15.6</td>\n",
       "      <td>76.5</td>\n",
       "      <td>0.0</td>\n",
       "    </tr>\n",
       "    <tr>\n",
       "      <th>2</th>\n",
       "      <td>32.0</td>\n",
       "      <td>0</td>\n",
       "      <td>74.70000</td>\n",
       "      <td>36.2</td>\n",
       "      <td>8.84</td>\n",
       "      <td>5.20</td>\n",
       "      <td>86.0</td>\n",
       "      <td>33.2</td>\n",
       "      <td>79.3</td>\n",
       "      <td>0.0</td>\n",
       "    </tr>\n",
       "    <tr>\n",
       "      <th>3</th>\n",
       "      <td>32.0</td>\n",
       "      <td>0</td>\n",
       "      <td>52.00000</td>\n",
       "      <td>30.6</td>\n",
       "      <td>7.33</td>\n",
       "      <td>4.74</td>\n",
       "      <td>80.0</td>\n",
       "      <td>33.8</td>\n",
       "      <td>75.7</td>\n",
       "      <td>0.0</td>\n",
       "    </tr>\n",
       "    <tr>\n",
       "      <th>4</th>\n",
       "      <td>32.0</td>\n",
       "      <td>0</td>\n",
       "      <td>74.10000</td>\n",
       "      <td>32.6</td>\n",
       "      <td>9.15</td>\n",
       "      <td>4.32</td>\n",
       "      <td>76.0</td>\n",
       "      <td>29.9</td>\n",
       "      <td>68.7</td>\n",
       "      <td>0.0</td>\n",
       "    </tr>\n",
       "    <tr>\n",
       "      <th>...</th>\n",
       "      <td>...</td>\n",
       "      <td>...</td>\n",
       "      <td>...</td>\n",
       "      <td>...</td>\n",
       "      <td>...</td>\n",
       "      <td>...</td>\n",
       "      <td>...</td>\n",
       "      <td>...</td>\n",
       "      <td>...</td>\n",
       "      <td>...</td>\n",
       "    </tr>\n",
       "    <tr>\n",
       "      <th>610</th>\n",
       "      <td>62.0</td>\n",
       "      <td>1</td>\n",
       "      <td>416.60000</td>\n",
       "      <td>5.9</td>\n",
       "      <td>5.57</td>\n",
       "      <td>6.30</td>\n",
       "      <td>55.7</td>\n",
       "      <td>650.9</td>\n",
       "      <td>68.5</td>\n",
       "      <td>1.0</td>\n",
       "    </tr>\n",
       "    <tr>\n",
       "      <th>611</th>\n",
       "      <td>64.0</td>\n",
       "      <td>1</td>\n",
       "      <td>102.80000</td>\n",
       "      <td>2.9</td>\n",
       "      <td>1.54</td>\n",
       "      <td>3.02</td>\n",
       "      <td>63.0</td>\n",
       "      <td>35.9</td>\n",
       "      <td>71.3</td>\n",
       "      <td>1.0</td>\n",
       "    </tr>\n",
       "    <tr>\n",
       "      <th>612</th>\n",
       "      <td>64.0</td>\n",
       "      <td>1</td>\n",
       "      <td>87.30000</td>\n",
       "      <td>3.5</td>\n",
       "      <td>1.66</td>\n",
       "      <td>3.63</td>\n",
       "      <td>66.7</td>\n",
       "      <td>64.2</td>\n",
       "      <td>82.0</td>\n",
       "      <td>1.0</td>\n",
       "    </tr>\n",
       "    <tr>\n",
       "      <th>613</th>\n",
       "      <td>46.0</td>\n",
       "      <td>1</td>\n",
       "      <td>68.28392</td>\n",
       "      <td>39.0</td>\n",
       "      <td>3.56</td>\n",
       "      <td>4.20</td>\n",
       "      <td>52.0</td>\n",
       "      <td>50.0</td>\n",
       "      <td>71.0</td>\n",
       "      <td>1.0</td>\n",
       "    </tr>\n",
       "    <tr>\n",
       "      <th>614</th>\n",
       "      <td>59.0</td>\n",
       "      <td>1</td>\n",
       "      <td>68.28392</td>\n",
       "      <td>100.0</td>\n",
       "      <td>9.07</td>\n",
       "      <td>5.30</td>\n",
       "      <td>67.0</td>\n",
       "      <td>34.0</td>\n",
       "      <td>68.0</td>\n",
       "      <td>1.0</td>\n",
       "    </tr>\n",
       "  </tbody>\n",
       "</table>\n",
       "<p>615 rows × 10 columns</p>\n",
       "</div>"
      ],
      "text/plain": [
       "      Age  Sex        ALP    ALT    CHE  CHOL   CREA    GGT  PROT  Category\n",
       "0    32.0    0   52.50000    7.7   6.93  3.23  106.0   12.1  69.0       0.0\n",
       "1    32.0    0   70.30000   18.0  11.17  4.80   74.0   15.6  76.5       0.0\n",
       "2    32.0    0   74.70000   36.2   8.84  5.20   86.0   33.2  79.3       0.0\n",
       "3    32.0    0   52.00000   30.6   7.33  4.74   80.0   33.8  75.7       0.0\n",
       "4    32.0    0   74.10000   32.6   9.15  4.32   76.0   29.9  68.7       0.0\n",
       "..    ...  ...        ...    ...    ...   ...    ...    ...   ...       ...\n",
       "610  62.0    1  416.60000    5.9   5.57  6.30   55.7  650.9  68.5       1.0\n",
       "611  64.0    1  102.80000    2.9   1.54  3.02   63.0   35.9  71.3       1.0\n",
       "612  64.0    1   87.30000    3.5   1.66  3.63   66.7   64.2  82.0       1.0\n",
       "613  46.0    1   68.28392   39.0   3.56  4.20   52.0   50.0  71.0       1.0\n",
       "614  59.0    1   68.28392  100.0   9.07  5.30   67.0   34.0  68.0       1.0\n",
       "\n",
       "[615 rows x 10 columns]"
      ]
     },
     "execution_count": 10,
     "metadata": {},
     "output_type": "execute_result"
    }
   ],
   "source": [
    "df"
   ]
  },
  {
   "cell_type": "markdown",
   "metadata": {},
   "source": [
    "Посмотрим как выглядит таблица после кодирования, можем видеть, что теперь все переменные являются числовыми и с ними можно работать."
   ]
  },
  {
   "cell_type": "code",
   "execution_count": 11,
   "metadata": {},
   "outputs": [],
   "source": [
    "# Splitting the dataset into the Training set and Test set\n",
    "X = df.iloc[:, :-1].values\n",
    "y = df.iloc[:, -1].values\n",
    "from sklearn.model_selection import train_test_split\n",
    "X_train, X_test, y_train, y_test = train_test_split(X, y, test_size=0.2, random_state=13)"
   ]
  },
  {
   "cell_type": "markdown",
   "metadata": {},
   "source": [
    "Разделим наш датасет на обучающую и тестовую выборки в пропорции 20% / 80%."
   ]
  },
  {
   "cell_type": "code",
   "execution_count": 12,
   "metadata": {},
   "outputs": [],
   "source": [
    "# Feature Scaling\n",
    "from sklearn.preprocessing import StandardScaler\n",
    "sc_X = StandardScaler().fit(X_train)\n",
    "X_train = sc_X.transform(X_train)\n",
    "X_test = sc_X.transform(X_test)"
   ]
  },
  {
   "cell_type": "markdown",
   "metadata": {},
   "source": [
    "Проведем шкалирование данных с помощью библиотеки sklearn.preprocessing, также стоит обратить внимание, что наша эндогенная переменная в шкалировании не нуждается, она уже должна быть дискретного типа (0;1)."
   ]
  },
  {
   "cell_type": "code",
   "execution_count": 13,
   "metadata": {},
   "outputs": [
    {
     "name": "stdout",
     "output_type": "stream",
     "text": [
      "Optimization terminated successfully.\n",
      "         Current function value: 0.514381\n",
      "         Iterations 7\n",
      "                        Results: Logit\n",
      "===============================================================\n",
      "Model:              Logit            Pseudo R-squared: -0.293  \n",
      "Dependent Variable: y                AIC:              524.1512\n",
      "Date:               2020-12-29 10:46 BIC:              561.9375\n",
      "No. Observations:   492              Log-Likelihood:   -253.08 \n",
      "Df Model:           8                LL-Null:          -195.80 \n",
      "Df Residuals:       483              LLR p-value:      1.0000  \n",
      "Converged:          1.0000           Scale:            1.0000  \n",
      "No. Iterations:     7.0000                                     \n",
      "-----------------------------------------------------------------\n",
      "         Coef.    Std.Err.      z      P>|z|     [0.025    0.975]\n",
      "-----------------------------------------------------------------\n",
      "x1       0.1267     0.1154    1.0979   0.2722   -0.0995    0.3528\n",
      "x2       0.1144     0.1188    0.9625   0.3358   -0.1185    0.3472\n",
      "x3      -0.3371     0.1626   -2.0725   0.0382   -0.6559   -0.0183\n",
      "x4      -0.0696     0.1628   -0.4272   0.6692   -0.3887    0.2496\n",
      "x5      -0.1815     0.1401   -1.2958   0.1950   -0.4561    0.0930\n",
      "x6      -0.6025     0.1388   -4.3411   0.0000   -0.8745   -0.3305\n",
      "x7      -0.0889     0.1609   -0.5525   0.5806   -0.4042    0.2264\n",
      "x8       2.9916     0.3304    9.0547   0.0000    2.3440    3.6392\n",
      "x9       0.1221     0.1260    0.9692   0.3324   -0.1248    0.3691\n",
      "===============================================================\n",
      "\n"
     ]
    }
   ],
   "source": [
    "# Baseline model\n",
    "import statsmodels.api as sm\n",
    "lr = sm.Logit(y_train, X_train).fit()\n",
    "print(lr.summary2())"
   ]
  },
  {
   "cell_type": "markdown",
   "metadata": {},
   "source": [
    "Построим базовую модель и посмотрим отчет по этой модели. Можем видеть, что 3 переменные значимые, p-value по остальным переменным превышает 3,82% и я не буду использовать их для построения классификаторов."
   ]
  },
  {
   "cell_type": "code",
   "execution_count": 14,
   "metadata": {},
   "outputs": [],
   "source": [
    "# p-value < 3,82 % Features\n",
    "X_train = X_train[:,[2, 5, 7]]\n",
    "X_test = X_test[:,[2, 5, 7, ]]"
   ]
  },
  {
   "cell_type": "markdown",
   "metadata": {},
   "source": [
    "Преобразуем тестовую и обучающие выборки, оставив в них только значимые переменные."
   ]
  },
  {
   "cell_type": "code",
   "execution_count": 15,
   "metadata": {},
   "outputs": [],
   "source": [
    "# Fitting Logistic Regression to the Training set (2 variables)\n",
    "from sklearn.linear_model import LogisticRegression\n",
    "lr = LogisticRegression(random_state = 13).fit(X_train, y_train)"
   ]
  },
  {
   "cell_type": "markdown",
   "metadata": {},
   "source": [
    "Обучим модель логистической регрессии."
   ]
  },
  {
   "cell_type": "code",
   "execution_count": 16,
   "metadata": {},
   "outputs": [
    {
     "data": {
      "text/plain": [
       "0.9349593495934959"
      ]
     },
     "execution_count": 16,
     "metadata": {},
     "output_type": "execute_result"
    }
   ],
   "source": [
    "# Predicting the Test set results\n",
    "y_pred = lr.predict(X_test)\n",
    "lr.score(X_test,y_test)"
   ]
  },
  {
   "cell_type": "markdown",
   "metadata": {},
   "source": [
    "Оцениваем качество модели, видим что уровень качества очень высокий, то есть больше 93% объектов распознаны верно."
   ]
  },
  {
   "cell_type": "code",
   "execution_count": 17,
   "metadata": {},
   "outputs": [
    {
     "name": "stdout",
     "output_type": "stream",
     "text": [
      "[[106   2]\n",
      " [  6   9]]\n"
     ]
    }
   ],
   "source": [
    "# Making the Confusion Matrix\n",
    "from sklearn.metrics import confusion_matrix\n",
    "cm = confusion_matrix(y_test, y_pred)\n",
    "print(cm)"
   ]
  },
  {
   "cell_type": "markdown",
   "metadata": {},
   "source": [
    "Строим таблицу сопряженности, видим, что 6 положительных случаев ложно определены как отрицательные, в тоже время 2 негативных исхода, определены моделью, как позитивные. 115 объектов модель распознала верно."
   ]
  },
  {
   "cell_type": "code",
   "execution_count": 18,
   "metadata": {},
   "outputs": [],
   "source": [
    "import pickle\n",
    "obj = {'X_train': X_train, 'X_test': X_test,'y_train': y_train,'y_test': y_test}\n",
    "output = open('data.pkl', 'wb')\n",
    "pickle.dump(obj, output, 2)\n",
    "output.close()"
   ]
  },
  {
   "cell_type": "markdown",
   "metadata": {},
   "source": [
    "Запишем и поместим в файл data.pkl наши тестовую и обучающую выборки, для дальнейщего использования при построении остальных моделей."
   ]
  },
  {
   "cell_type": "code",
   "execution_count": 19,
   "metadata": {},
   "outputs": [],
   "source": [
    "import pickle\n",
    "input = open('data.pkl', 'rb')\n",
    "obj = pickle.load(input)\n",
    "input.close()\n",
    "X_train = obj[\"X_train\"]\n",
    "X_test = obj[\"X_test\"]\n",
    "y_train = obj[\"y_train\"]\n",
    "y_test = obj[\"y_test\"]"
   ]
  },
  {
   "cell_type": "markdown",
   "metadata": {},
   "source": [
    "Импортируем наши данные."
   ]
  },
  {
   "cell_type": "code",
   "execution_count": 20,
   "metadata": {},
   "outputs": [],
   "source": [
    "# Importing the Keras libraries and packages\n",
    "import keras\n",
    "from keras.models import Sequential\n",
    "from keras.layers import Dense"
   ]
  },
  {
   "cell_type": "markdown",
   "metadata": {},
   "source": [
    "Импортируем необходимые библиотеки и что важно обновляем их через командую строку."
   ]
  },
  {
   "cell_type": "code",
   "execution_count": 21,
   "metadata": {},
   "outputs": [],
   "source": [
    "# Initialising the ANN\n",
    "cnn = Sequential()\n",
    "\n",
    "# Adding the input layer and the first hidden layer\n",
    "cnn.add(Dense(units = 3,  activation = 'relu', input_dim = 3))\n",
    "\n",
    "# Adding the output layer\n",
    "cnn.add(Dense(units = 1, activation = 'sigmoid'))\n",
    "\n",
    "# Compiling the ANN\n",
    "cnn.compile(optimizer = 'adam', loss = 'binary_crossentropy', metrics = ['accuracy'])"
   ]
  },
  {
   "cell_type": "markdown",
   "metadata": {},
   "source": [
    "Построим нейронную сеть прямой передачи сигнала. Так как параметров для классификации было выбрано 5, соответственно на входном слое находится 5 нейронов. На втором слое выберем 1 нейрон."
   ]
  },
  {
   "cell_type": "code",
   "execution_count": 22,
   "metadata": {},
   "outputs": [
    {
     "name": "stdout",
     "output_type": "stream",
     "text": [
      "Epoch 1/100\n",
      "62/62 [==============================] - 0s 3ms/step - loss: 0.5787 - accuracy: 0.7846 - val_loss: 0.5058 - val_accuracy: 0.8699\n",
      "Epoch 2/100\n",
      "62/62 [==============================] - 0s 999us/step - loss: 0.5295 - accuracy: 0.8496 - val_loss: 0.4612 - val_accuracy: 0.8537\n",
      "Epoch 3/100\n",
      "62/62 [==============================] - 0s 971us/step - loss: 0.4867 - accuracy: 0.8760 - val_loss: 0.4201 - val_accuracy: 0.8862\n",
      "Epoch 4/100\n",
      "62/62 [==============================] - 0s 869us/step - loss: 0.4469 - accuracy: 0.8862 - val_loss: 0.3884 - val_accuracy: 0.8943\n",
      "Epoch 5/100\n",
      "62/62 [==============================] - 0s 788us/step - loss: 0.4125 - accuracy: 0.8821 - val_loss: 0.3591 - val_accuracy: 0.8943\n",
      "Epoch 6/100\n",
      "62/62 [==============================] - 0s 901us/step - loss: 0.3835 - accuracy: 0.8862 - val_loss: 0.3365 - val_accuracy: 0.9024\n",
      "Epoch 7/100\n",
      "62/62 [==============================] - 0s 869us/step - loss: 0.3590 - accuracy: 0.8882 - val_loss: 0.3178 - val_accuracy: 0.9024\n",
      "Epoch 8/100\n",
      "62/62 [==============================] - 0s 949us/step - loss: 0.3380 - accuracy: 0.8902 - val_loss: 0.3021 - val_accuracy: 0.9024\n",
      "Epoch 9/100\n",
      "62/62 [==============================] - 0s 877us/step - loss: 0.3210 - accuracy: 0.8882 - val_loss: 0.2898 - val_accuracy: 0.9024\n",
      "Epoch 10/100\n",
      "62/62 [==============================] - 0s 803us/step - loss: 0.3061 - accuracy: 0.8882 - val_loss: 0.2786 - val_accuracy: 0.9024\n",
      "Epoch 11/100\n",
      "62/62 [==============================] - 0s 790us/step - loss: 0.2941 - accuracy: 0.8882 - val_loss: 0.2705 - val_accuracy: 0.9024\n",
      "Epoch 12/100\n",
      "62/62 [==============================] - 0s 878us/step - loss: 0.2839 - accuracy: 0.8882 - val_loss: 0.2638 - val_accuracy: 0.9024\n",
      "Epoch 13/100\n",
      "62/62 [==============================] - 0s 922us/step - loss: 0.2748 - accuracy: 0.8882 - val_loss: 0.2579 - val_accuracy: 0.9024\n",
      "Epoch 14/100\n",
      "62/62 [==============================] - 0s 870us/step - loss: 0.2674 - accuracy: 0.8882 - val_loss: 0.2535 - val_accuracy: 0.9024\n",
      "Epoch 15/100\n",
      "62/62 [==============================] - 0s 990us/step - loss: 0.2609 - accuracy: 0.8862 - val_loss: 0.2493 - val_accuracy: 0.9024\n",
      "Epoch 16/100\n",
      "62/62 [==============================] - 0s 860us/step - loss: 0.2555 - accuracy: 0.8862 - val_loss: 0.2462 - val_accuracy: 0.9024\n",
      "Epoch 17/100\n",
      "62/62 [==============================] - 0s 921us/step - loss: 0.2507 - accuracy: 0.8862 - val_loss: 0.2438 - val_accuracy: 0.9024\n",
      "Epoch 18/100\n",
      "62/62 [==============================] - 0s 853us/step - loss: 0.2463 - accuracy: 0.8923 - val_loss: 0.2412 - val_accuracy: 0.9024\n",
      "Epoch 19/100\n",
      "62/62 [==============================] - 0s 879us/step - loss: 0.2423 - accuracy: 0.8943 - val_loss: 0.2386 - val_accuracy: 0.9024\n",
      "Epoch 20/100\n",
      "62/62 [==============================] - 0s 798us/step - loss: 0.2388 - accuracy: 0.8984 - val_loss: 0.2367 - val_accuracy: 0.9024\n",
      "Epoch 21/100\n",
      "62/62 [==============================] - 0s 834us/step - loss: 0.2358 - accuracy: 0.9004 - val_loss: 0.2349 - val_accuracy: 0.9024\n",
      "Epoch 22/100\n",
      "62/62 [==============================] - 0s 1ms/step - loss: 0.2331 - accuracy: 0.9024 - val_loss: 0.2331 - val_accuracy: 0.9024\n",
      "Epoch 23/100\n",
      "62/62 [==============================] - 0s 885us/step - loss: 0.2306 - accuracy: 0.9024 - val_loss: 0.2317 - val_accuracy: 0.9024\n",
      "Epoch 24/100\n",
      "62/62 [==============================] - 0s 930us/step - loss: 0.2281 - accuracy: 0.9024 - val_loss: 0.2305 - val_accuracy: 0.9024\n",
      "Epoch 25/100\n",
      "62/62 [==============================] - 0s 885us/step - loss: 0.2259 - accuracy: 0.9024 - val_loss: 0.2291 - val_accuracy: 0.9024\n",
      "Epoch 26/100\n",
      "62/62 [==============================] - 0s 937us/step - loss: 0.2240 - accuracy: 0.9024 - val_loss: 0.2276 - val_accuracy: 0.9024\n",
      "Epoch 27/100\n",
      "62/62 [==============================] - 0s 901us/step - loss: 0.2224 - accuracy: 0.9024 - val_loss: 0.2266 - val_accuracy: 0.9024\n",
      "Epoch 28/100\n",
      "62/62 [==============================] - 0s 902us/step - loss: 0.2206 - accuracy: 0.9024 - val_loss: 0.2256 - val_accuracy: 0.9024\n",
      "Epoch 29/100\n",
      "62/62 [==============================] - 0s 965us/step - loss: 0.2189 - accuracy: 0.9065 - val_loss: 0.2246 - val_accuracy: 0.9024\n",
      "Epoch 30/100\n",
      "62/62 [==============================] - 0s 891us/step - loss: 0.2171 - accuracy: 0.9045 - val_loss: 0.2233 - val_accuracy: 0.9106\n",
      "Epoch 31/100\n",
      "62/62 [==============================] - 0s 950us/step - loss: 0.2155 - accuracy: 0.9085 - val_loss: 0.2219 - val_accuracy: 0.9187\n",
      "Epoch 32/100\n",
      "62/62 [==============================] - 0s 899us/step - loss: 0.2137 - accuracy: 0.9126 - val_loss: 0.2211 - val_accuracy: 0.9187\n",
      "Epoch 33/100\n",
      "62/62 [==============================] - 0s 917us/step - loss: 0.2122 - accuracy: 0.9167 - val_loss: 0.2202 - val_accuracy: 0.9187\n",
      "Epoch 34/100\n",
      "62/62 [==============================] - 0s 978us/step - loss: 0.2106 - accuracy: 0.9167 - val_loss: 0.2193 - val_accuracy: 0.9268\n",
      "Epoch 35/100\n",
      "62/62 [==============================] - 0s 877us/step - loss: 0.2090 - accuracy: 0.9167 - val_loss: 0.2185 - val_accuracy: 0.9268\n",
      "Epoch 36/100\n",
      "62/62 [==============================] - 0s 902us/step - loss: 0.2076 - accuracy: 0.9146 - val_loss: 0.2180 - val_accuracy: 0.9268\n",
      "Epoch 37/100\n",
      "62/62 [==============================] - 0s 751us/step - loss: 0.2067 - accuracy: 0.9146 - val_loss: 0.2170 - val_accuracy: 0.9350\n",
      "Epoch 38/100\n",
      "62/62 [==============================] - 0s 738us/step - loss: 0.2050 - accuracy: 0.9207 - val_loss: 0.2173 - val_accuracy: 0.9350\n",
      "Epoch 39/100\n",
      "62/62 [==============================] - 0s 753us/step - loss: 0.2037 - accuracy: 0.9248 - val_loss: 0.2168 - val_accuracy: 0.9350\n",
      "Epoch 40/100\n",
      "62/62 [==============================] - 0s 744us/step - loss: 0.2026 - accuracy: 0.9268 - val_loss: 0.2163 - val_accuracy: 0.9431\n",
      "Epoch 41/100\n",
      "62/62 [==============================] - 0s 702us/step - loss: 0.2014 - accuracy: 0.9268 - val_loss: 0.2154 - val_accuracy: 0.9431\n",
      "Epoch 42/100\n",
      "62/62 [==============================] - 0s 705us/step - loss: 0.2005 - accuracy: 0.9268 - val_loss: 0.2151 - val_accuracy: 0.9431\n",
      "Epoch 43/100\n",
      "62/62 [==============================] - 0s 733us/step - loss: 0.1997 - accuracy: 0.9268 - val_loss: 0.2146 - val_accuracy: 0.9431\n",
      "Epoch 44/100\n",
      "62/62 [==============================] - 0s 742us/step - loss: 0.1985 - accuracy: 0.9268 - val_loss: 0.2141 - val_accuracy: 0.9431\n",
      "Epoch 45/100\n",
      "62/62 [==============================] - 0s 726us/step - loss: 0.1978 - accuracy: 0.9268 - val_loss: 0.2135 - val_accuracy: 0.9431\n",
      "Epoch 46/100\n",
      "62/62 [==============================] - 0s 724us/step - loss: 0.1972 - accuracy: 0.9268 - val_loss: 0.2133 - val_accuracy: 0.9431\n",
      "Epoch 47/100\n",
      "62/62 [==============================] - 0s 740us/step - loss: 0.1963 - accuracy: 0.9268 - val_loss: 0.2129 - val_accuracy: 0.9431\n",
      "Epoch 48/100\n",
      "62/62 [==============================] - 0s 714us/step - loss: 0.1955 - accuracy: 0.9268 - val_loss: 0.2131 - val_accuracy: 0.9512\n",
      "Epoch 49/100\n",
      "62/62 [==============================] - 0s 708us/step - loss: 0.1949 - accuracy: 0.9228 - val_loss: 0.2126 - val_accuracy: 0.9512\n",
      "Epoch 50/100\n",
      "62/62 [==============================] - 0s 757us/step - loss: 0.1945 - accuracy: 0.9268 - val_loss: 0.2125 - val_accuracy: 0.9512\n",
      "Epoch 51/100\n",
      "62/62 [==============================] - 0s 754us/step - loss: 0.1940 - accuracy: 0.9268 - val_loss: 0.2118 - val_accuracy: 0.9512\n",
      "Epoch 52/100\n",
      "62/62 [==============================] - 0s 757us/step - loss: 0.1935 - accuracy: 0.9248 - val_loss: 0.2115 - val_accuracy: 0.9512\n",
      "Epoch 53/100\n",
      "62/62 [==============================] - 0s 763us/step - loss: 0.1932 - accuracy: 0.9268 - val_loss: 0.2116 - val_accuracy: 0.9512\n",
      "Epoch 54/100\n",
      "62/62 [==============================] - 0s 779us/step - loss: 0.1929 - accuracy: 0.9268 - val_loss: 0.2112 - val_accuracy: 0.9512\n",
      "Epoch 55/100\n",
      "62/62 [==============================] - 0s 745us/step - loss: 0.1922 - accuracy: 0.9268 - val_loss: 0.2110 - val_accuracy: 0.9512\n",
      "Epoch 56/100\n",
      "62/62 [==============================] - 0s 767us/step - loss: 0.1920 - accuracy: 0.9248 - val_loss: 0.2108 - val_accuracy: 0.9512\n",
      "Epoch 57/100\n",
      "62/62 [==============================] - 0s 784us/step - loss: 0.1916 - accuracy: 0.9268 - val_loss: 0.2102 - val_accuracy: 0.9512\n"
     ]
    },
    {
     "name": "stdout",
     "output_type": "stream",
     "text": [
      "Epoch 58/100\n",
      "62/62 [==============================] - 0s 760us/step - loss: 0.1915 - accuracy: 0.9248 - val_loss: 0.2101 - val_accuracy: 0.9512\n",
      "Epoch 59/100\n",
      "62/62 [==============================] - 0s 724us/step - loss: 0.1911 - accuracy: 0.9268 - val_loss: 0.2099 - val_accuracy: 0.9512\n",
      "Epoch 60/100\n",
      "62/62 [==============================] - 0s 748us/step - loss: 0.1908 - accuracy: 0.9268 - val_loss: 0.2096 - val_accuracy: 0.9512\n",
      "Epoch 61/100\n",
      "62/62 [==============================] - 0s 740us/step - loss: 0.1904 - accuracy: 0.9268 - val_loss: 0.2094 - val_accuracy: 0.9512\n",
      "Epoch 62/100\n",
      "62/62 [==============================] - 0s 813us/step - loss: 0.1900 - accuracy: 0.9248 - val_loss: 0.2088 - val_accuracy: 0.9512\n",
      "Epoch 63/100\n",
      "62/62 [==============================] - 0s 788us/step - loss: 0.1894 - accuracy: 0.9268 - val_loss: 0.2087 - val_accuracy: 0.9512\n",
      "Epoch 64/100\n",
      "62/62 [==============================] - 0s 777us/step - loss: 0.1889 - accuracy: 0.9268 - val_loss: 0.2083 - val_accuracy: 0.9512\n",
      "Epoch 65/100\n",
      "62/62 [==============================] - 0s 740us/step - loss: 0.1885 - accuracy: 0.9268 - val_loss: 0.2077 - val_accuracy: 0.9512\n",
      "Epoch 66/100\n",
      "62/62 [==============================] - 0s 760us/step - loss: 0.1881 - accuracy: 0.9268 - val_loss: 0.2077 - val_accuracy: 0.9512\n",
      "Epoch 67/100\n",
      "62/62 [==============================] - 0s 761us/step - loss: 0.1876 - accuracy: 0.9268 - val_loss: 0.2075 - val_accuracy: 0.9512\n",
      "Epoch 68/100\n",
      "62/62 [==============================] - 0s 772us/step - loss: 0.1872 - accuracy: 0.9268 - val_loss: 0.2072 - val_accuracy: 0.9512\n",
      "Epoch 69/100\n",
      "62/62 [==============================] - 0s 724us/step - loss: 0.1870 - accuracy: 0.9268 - val_loss: 0.2072 - val_accuracy: 0.9512\n",
      "Epoch 70/100\n",
      "62/62 [==============================] - 0s 772us/step - loss: 0.1866 - accuracy: 0.9268 - val_loss: 0.2065 - val_accuracy: 0.9512\n",
      "Epoch 71/100\n",
      "62/62 [==============================] - 0s 778us/step - loss: 0.1860 - accuracy: 0.9248 - val_loss: 0.2060 - val_accuracy: 0.9512\n",
      "Epoch 72/100\n",
      "62/62 [==============================] - 0s 777us/step - loss: 0.1855 - accuracy: 0.9268 - val_loss: 0.2062 - val_accuracy: 0.9512\n",
      "Epoch 73/100\n",
      "62/62 [==============================] - 0s 705us/step - loss: 0.1850 - accuracy: 0.9268 - val_loss: 0.2063 - val_accuracy: 0.9512\n",
      "Epoch 74/100\n",
      "62/62 [==============================] - 0s 798us/step - loss: 0.1846 - accuracy: 0.9268 - val_loss: 0.2055 - val_accuracy: 0.9512\n",
      "Epoch 75/100\n",
      "62/62 [==============================] - 0s 754us/step - loss: 0.1845 - accuracy: 0.9248 - val_loss: 0.2056 - val_accuracy: 0.9512\n",
      "Epoch 76/100\n",
      "62/62 [==============================] - 0s 744us/step - loss: 0.1839 - accuracy: 0.9268 - val_loss: 0.2056 - val_accuracy: 0.9512\n",
      "Epoch 77/100\n",
      "62/62 [==============================] - 0s 766us/step - loss: 0.1832 - accuracy: 0.9289 - val_loss: 0.2056 - val_accuracy: 0.9512\n",
      "Epoch 78/100\n",
      "62/62 [==============================] - 0s 801us/step - loss: 0.1831 - accuracy: 0.9228 - val_loss: 0.2048 - val_accuracy: 0.9512\n",
      "Epoch 79/100\n",
      "62/62 [==============================] - 0s 771us/step - loss: 0.1827 - accuracy: 0.9248 - val_loss: 0.2051 - val_accuracy: 0.9512\n",
      "Epoch 80/100\n",
      "62/62 [==============================] - 0s 726us/step - loss: 0.1823 - accuracy: 0.9268 - val_loss: 0.2048 - val_accuracy: 0.9512\n",
      "Epoch 81/100\n",
      "62/62 [==============================] - 0s 756us/step - loss: 0.1817 - accuracy: 0.9268 - val_loss: 0.2049 - val_accuracy: 0.9512\n",
      "Epoch 82/100\n",
      "62/62 [==============================] - 0s 754us/step - loss: 0.1815 - accuracy: 0.9248 - val_loss: 0.2045 - val_accuracy: 0.9512\n",
      "Epoch 83/100\n",
      "62/62 [==============================] - 0s 743us/step - loss: 0.1811 - accuracy: 0.9228 - val_loss: 0.2044 - val_accuracy: 0.9512\n",
      "Epoch 84/100\n",
      "62/62 [==============================] - 0s 742us/step - loss: 0.1806 - accuracy: 0.9268 - val_loss: 0.2045 - val_accuracy: 0.9512\n",
      "Epoch 85/100\n",
      "62/62 [==============================] - 0s 764us/step - loss: 0.1806 - accuracy: 0.9248 - val_loss: 0.2036 - val_accuracy: 0.9512\n",
      "Epoch 86/100\n",
      "62/62 [==============================] - 0s 770us/step - loss: 0.1798 - accuracy: 0.9268 - val_loss: 0.2040 - val_accuracy: 0.9512\n",
      "Epoch 87/100\n",
      "62/62 [==============================] - 0s 788us/step - loss: 0.1795 - accuracy: 0.9289 - val_loss: 0.2042 - val_accuracy: 0.9512\n",
      "Epoch 88/100\n",
      "62/62 [==============================] - 0s 752us/step - loss: 0.1792 - accuracy: 0.9268 - val_loss: 0.2038 - val_accuracy: 0.9512\n",
      "Epoch 89/100\n",
      "62/62 [==============================] - 0s 765us/step - loss: 0.1792 - accuracy: 0.9289 - val_loss: 0.2043 - val_accuracy: 0.9512\n",
      "Epoch 90/100\n",
      "62/62 [==============================] - 0s 756us/step - loss: 0.1786 - accuracy: 0.9289 - val_loss: 0.2034 - val_accuracy: 0.9512\n",
      "Epoch 91/100\n",
      "62/62 [==============================] - 0s 740us/step - loss: 0.1784 - accuracy: 0.9289 - val_loss: 0.2033 - val_accuracy: 0.9512\n",
      "Epoch 92/100\n",
      "62/62 [==============================] - 0s 747us/step - loss: 0.1780 - accuracy: 0.9268 - val_loss: 0.2033 - val_accuracy: 0.9512\n",
      "Epoch 93/100\n",
      "62/62 [==============================] - 0s 740us/step - loss: 0.1777 - accuracy: 0.9289 - val_loss: 0.2035 - val_accuracy: 0.9512\n",
      "Epoch 94/100\n",
      "62/62 [==============================] - 0s 802us/step - loss: 0.1776 - accuracy: 0.9289 - val_loss: 0.2028 - val_accuracy: 0.9512\n",
      "Epoch 95/100\n",
      "62/62 [==============================] - 0s 724us/step - loss: 0.1772 - accuracy: 0.9289 - val_loss: 0.2036 - val_accuracy: 0.9512\n",
      "Epoch 96/100\n",
      "62/62 [==============================] - 0s 724us/step - loss: 0.1770 - accuracy: 0.9248 - val_loss: 0.2026 - val_accuracy: 0.9512\n",
      "Epoch 97/100\n",
      "62/62 [==============================] - 0s 733us/step - loss: 0.1767 - accuracy: 0.9248 - val_loss: 0.2040 - val_accuracy: 0.9512\n",
      "Epoch 98/100\n",
      "62/62 [==============================] - 0s 721us/step - loss: 0.1765 - accuracy: 0.9268 - val_loss: 0.2035 - val_accuracy: 0.9512\n",
      "Epoch 99/100\n",
      "62/62 [==============================] - 0s 743us/step - loss: 0.1762 - accuracy: 0.9268 - val_loss: 0.2035 - val_accuracy: 0.9512\n",
      "Epoch 100/100\n",
      "62/62 [==============================] - 0s 740us/step - loss: 0.1759 - accuracy: 0.9248 - val_loss: 0.2030 - val_accuracy: 0.9512\n"
     ]
    }
   ],
   "source": [
    "# Fitting the ANN to the Training set\n",
    "history = cnn.fit(X_train, y_train, batch_size = 8, epochs = 100, validation_data=(X_test, y_test))"
   ]
  },
  {
   "cell_type": "code",
   "execution_count": 23,
   "metadata": {},
   "outputs": [
    {
     "data": {
      "image/png": "[encoded data removed]",
      "text/plain": [
       "<Figure size 432x288 with 1 Axes>"
      ]
     },
     "metadata": {
      "needs_background": "light"
     },
     "output_type": "display_data"
    }
   ],
   "source": [
    "# Plotting loss & accuracy\n",
    "plt.figure()\n",
    "plt.plot(history.history['loss'])\n",
    "plt.plot(history.history['val_loss'])\n",
    "plt.title('model loss')\n",
    "plt.ylabel('loss')\n",
    "plt.xlabel('epoch')\n",
    "plt.legend(['train', 'test'], loc='best')\n",
    "plt.show()"
   ]
  },
  {
   "cell_type": "code",
   "execution_count": 24,
   "metadata": {},
   "outputs": [],
   "source": [
    "# Predicting the Test set results\n",
    "y_pred = cnn.predict(X_test)\n",
    "y_pred = (y_pred > 0.5)"
   ]
  },
  {
   "cell_type": "markdown",
   "metadata": {},
   "source": [
    "Сделаем прогнозирование, порог оставим прежний."
   ]
  },
  {
   "cell_type": "code",
   "execution_count": 25,
   "metadata": {},
   "outputs": [
    {
     "name": "stdout",
     "output_type": "stream",
     "text": [
      "[[106   2]\n",
      " [  4  11]]\n"
     ]
    }
   ],
   "source": [
    "# Making the Confusion Matrix\n",
    "from sklearn.metrics import confusion_matrix\n",
    "cm = confusion_matrix(y_test, y_pred)\n",
    "print(cm)"
   ]
  },
  {
   "cell_type": "markdown",
   "metadata": {},
   "source": [
    "Построив таблицу сопряженности, видим, что она стала лучше (было 6 неверно распознанных объектов, стало 4). При этом я увеличила количество нейронов на 1ом слое до 3, усложнять архитектуру на такой маленькой выборке смысла нет. 117 объектов распознаны верно,  модель обучилась и стала лучше."
   ]
  }
 ],
 "metadata": {
  "kernelspec": {
   "display_name": "Python 3",
   "language": "python",
   "name": "python3"
  },
  "language_info": {
   "codemirror_mode": {
    "name": "ipython",
    "version": 3
   },
   "file_extension": ".py",
   "mimetype": "text/x-python",
   "name": "python",
   "nbconvert_exporter": "python",
   "pygments_lexer": "ipython3",
   "version": "3.8.3"
  }
 },
 "nbformat": 4,
 "nbformat_minor": 4
}
